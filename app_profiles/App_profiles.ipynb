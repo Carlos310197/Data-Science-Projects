{
 "cells": [
  {
   "cell_type": "markdown",
   "metadata": {},
   "source": [
    "# Data analysis of mobile apps  \n",
    "\n",
    "+ **This project is about** analyzing Google Store and App Store usage data to see which apps are more attracted to users.\n",
    "+ **The goal of this project is** to help our developers understand what type of apps are likely to attract more users on Google Play and the App Store"
   ]
  },
  {
   "cell_type": "markdown",
   "metadata": {},
   "source": [
    "### Create the function to open the file"
   ]
  },
  {
   "cell_type": "code",
   "execution_count": 11,
   "metadata": {},
   "outputs": [],
   "source": [
    "def open_file(filename):\n",
    "    opened_file = open(filename)\n",
    "    from csv import reader\n",
    "    read_file = reader(opened_file)\n",
    "    apps_data = list(read_file)\n",
    "    return apps_data"
   ]
  },
  {
   "cell_type": "markdown",
   "metadata": {},
   "source": [
    "### Open the files"
   ]
  },
  {
   "cell_type": "markdown",
   "metadata": {},
   "source": [
    "#### 1. Apple Store apps"
   ]
  },
  {
   "cell_type": "code",
   "execution_count": 12,
   "metadata": {},
   "outputs": [
    {
     "data": {
      "text/plain": [
       "[['id',\n",
       "  'track_name',\n",
       "  'size_bytes',\n",
       "  'currency',\n",
       "  'price',\n",
       "  'rating_count_tot',\n",
       "  'rating_count_ver',\n",
       "  'user_rating',\n",
       "  'user_rating_ver',\n",
       "  'ver',\n",
       "  'cont_rating',\n",
       "  'prime_genre',\n",
       "  'sup_devices.num',\n",
       "  'ipadSc_urls.num',\n",
       "  'lang.num',\n",
       "  'vpp_lic'],\n",
       " ['284882215',\n",
       "  'Facebook',\n",
       "  '389879808',\n",
       "  'USD',\n",
       "  '0.0',\n",
       "  '2974676',\n",
       "  '212',\n",
       "  '3.5',\n",
       "  '3.5',\n",
       "  '95.0',\n",
       "  '4+',\n",
       "  'Social Networking',\n",
       "  '37',\n",
       "  '1',\n",
       "  '29',\n",
       "  '1'],\n",
       " ['389801252',\n",
       "  'Instagram',\n",
       "  '113954816',\n",
       "  'USD',\n",
       "  '0.0',\n",
       "  '2161558',\n",
       "  '1289',\n",
       "  '4.5',\n",
       "  '4.0',\n",
       "  '10.23',\n",
       "  '12+',\n",
       "  'Photo & Video',\n",
       "  '37',\n",
       "  '0',\n",
       "  '29',\n",
       "  '1'],\n",
       " ['529479190',\n",
       "  'Clash of Clans',\n",
       "  '116476928',\n",
       "  'USD',\n",
       "  '0.0',\n",
       "  '2130805',\n",
       "  '579',\n",
       "  '4.5',\n",
       "  '4.5',\n",
       "  '9.24.12',\n",
       "  '9+',\n",
       "  'Games',\n",
       "  '38',\n",
       "  '5',\n",
       "  '18',\n",
       "  '1'],\n",
       " ['420009108',\n",
       "  'Temple Run',\n",
       "  '65921024',\n",
       "  'USD',\n",
       "  '0.0',\n",
       "  '1724546',\n",
       "  '3842',\n",
       "  '4.5',\n",
       "  '4.0',\n",
       "  '1.6.2',\n",
       "  '9+',\n",
       "  'Games',\n",
       "  '40',\n",
       "  '5',\n",
       "  '1',\n",
       "  '1']]"
      ]
     },
     "execution_count": 12,
     "metadata": {},
     "output_type": "execute_result"
    }
   ],
   "source": [
    "apple_apps = open_file('AppleStore.csv')\n",
    "apple_apps[:5]"
   ]
  },
  {
   "cell_type": "markdown",
   "metadata": {},
   "source": [
    "#### 2. Google PlayStore apps"
   ]
  },
  {
   "cell_type": "code",
   "execution_count": 13,
   "metadata": {},
   "outputs": [
    {
     "data": {
      "text/plain": [
       "[['App',\n",
       "  'Category',\n",
       "  'Rating',\n",
       "  'Reviews',\n",
       "  'Size',\n",
       "  'Installs',\n",
       "  'Type',\n",
       "  'Price',\n",
       "  'Content Rating',\n",
       "  'Genres',\n",
       "  'Last Updated',\n",
       "  'Current Ver',\n",
       "  'Android Ver'],\n",
       " ['Photo Editor & Candy Camera & Grid & ScrapBook',\n",
       "  'ART_AND_DESIGN',\n",
       "  '4.1',\n",
       "  '159',\n",
       "  '19M',\n",
       "  '10,000+',\n",
       "  'Free',\n",
       "  '0',\n",
       "  'Everyone',\n",
       "  'Art & Design',\n",
       "  'January 7, 2018',\n",
       "  '1.0.0',\n",
       "  '4.0.3 and up'],\n",
       " ['Coloring book moana',\n",
       "  'ART_AND_DESIGN',\n",
       "  '3.9',\n",
       "  '967',\n",
       "  '14M',\n",
       "  '500,000+',\n",
       "  'Free',\n",
       "  '0',\n",
       "  'Everyone',\n",
       "  'Art & Design;Pretend Play',\n",
       "  'January 15, 2018',\n",
       "  '2.0.0',\n",
       "  '4.0.3 and up'],\n",
       " ['U Launcher Lite – FREE Live Cool Themes, Hide Apps',\n",
       "  'ART_AND_DESIGN',\n",
       "  '4.7',\n",
       "  '87510',\n",
       "  '8.7M',\n",
       "  '5,000,000+',\n",
       "  'Free',\n",
       "  '0',\n",
       "  'Everyone',\n",
       "  'Art & Design',\n",
       "  'August 1, 2018',\n",
       "  '1.2.4',\n",
       "  '4.0.3 and up'],\n",
       " ['Sketch - Draw & Paint',\n",
       "  'ART_AND_DESIGN',\n",
       "  '4.5',\n",
       "  '215644',\n",
       "  '25M',\n",
       "  '50,000,000+',\n",
       "  'Free',\n",
       "  '0',\n",
       "  'Teen',\n",
       "  'Art & Design',\n",
       "  'June 8, 2018',\n",
       "  'Varies with device',\n",
       "  '4.2 and up']]"
      ]
     },
     "execution_count": 13,
     "metadata": {},
     "output_type": "execute_result"
    }
   ],
   "source": [
    "google_apps = open_file('googleplaystore.csv')\n",
    "google_apps[:5]"
   ]
  },
  {
   "cell_type": "markdown",
   "metadata": {},
   "source": [
    "Define a function to explore the data"
   ]
  },
  {
   "cell_type": "code",
   "execution_count": 14,
   "metadata": {},
   "outputs": [],
   "source": [
    "def explore_data(dataset, start, end, rows_and_columns=False):\n",
    "    dataset_slice = dataset[start:end]    \n",
    "    for row in dataset_slice:\n",
    "        print(row)\n",
    "        print('\\n') # adds a new (empty) line after each row\n",
    "\n",
    "    if rows_and_columns:\n",
    "        print('Number of rows:', len(dataset))\n",
    "        print('Number of columns:', len(dataset[0]))"
   ]
  },
  {
   "cell_type": "markdown",
   "metadata": {},
   "source": [
    "### **Apple apps exploring**"
   ]
  },
  {
   "cell_type": "code",
   "execution_count": 15,
   "metadata": {},
   "outputs": [
    {
     "name": "stdout",
     "output_type": "stream",
     "text": [
      "Columns: ['id', 'track_name', 'size_bytes', 'currency', 'price', 'rating_count_tot', 'rating_count_ver', 'user_rating', 'user_rating_ver', 'ver', 'cont_rating', 'prime_genre', 'sup_devices.num', 'ipadSc_urls.num', 'lang.num', 'vpp_lic'] \n",
      "\n",
      "['284882215', 'Facebook', '389879808', 'USD', '0.0', '2974676', '212', '3.5', '3.5', '95.0', '4+', 'Social Networking', '37', '1', '29', '1']\n",
      "\n",
      "\n",
      "['389801252', 'Instagram', '113954816', 'USD', '0.0', '2161558', '1289', '4.5', '4.0', '10.23', '12+', 'Photo & Video', '37', '0', '29', '1']\n",
      "\n",
      "\n",
      "['529479190', 'Clash of Clans', '116476928', 'USD', '0.0', '2130805', '579', '4.5', '4.5', '9.24.12', '9+', 'Games', '38', '5', '18', '1']\n",
      "\n",
      "\n",
      "['420009108', 'Temple Run', '65921024', 'USD', '0.0', '1724546', '3842', '4.5', '4.0', '1.6.2', '9+', 'Games', '40', '5', '1', '1']\n",
      "\n",
      "\n",
      "['284035177', 'Pandora - Music & Radio', '130242560', 'USD', '0.0', '1126879', '3594', '4.0', '4.5', '8.4.1', '12+', 'Music', '37', '4', '1', '1']\n",
      "\n",
      "\n",
      "['429047995', 'Pinterest', '74778624', 'USD', '0.0', '1061624', '1814', '4.5', '4.0', '6.26', '12+', 'Social Networking', '37', '5', '27', '1']\n",
      "\n",
      "\n",
      "['282935706', 'Bible', '92774400', 'USD', '0.0', '985920', '5320', '4.5', '5.0', '7.5.1', '4+', 'Reference', '37', '5', '45', '1']\n",
      "\n",
      "\n",
      "['553834731', 'Candy Crush Saga', '222846976', 'USD', '0.0', '961794', '2453', '4.5', '4.5', '1.101.0', '4+', 'Games', '43', '5', '24', '1']\n",
      "\n",
      "\n",
      "['324684580', 'Spotify Music', '132510720', 'USD', '0.0', '878563', '8253', '4.5', '4.5', '8.4.3', '12+', 'Music', '37', '5', '18', '1']\n",
      "\n",
      "\n",
      "['343200656', 'Angry Birds', '175966208', 'USD', '0.0', '824451', '107', '4.5', '3.0', '7.4.0', '4+', 'Games', '38', '0', '10', '1']\n",
      "\n",
      "\n"
     ]
    }
   ],
   "source": [
    "print('Columns:', apple_apps[0],'\\n')\n",
    "explore_data(apple_apps[1:], 0, 10)"
   ]
  },
  {
   "cell_type": "markdown",
   "metadata": {},
   "source": [
    "### **Google apps exploring**"
   ]
  },
  {
   "cell_type": "code",
   "execution_count": 16,
   "metadata": {},
   "outputs": [
    {
     "name": "stdout",
     "output_type": "stream",
     "text": [
      "Columns: ['App', 'Category', 'Rating', 'Reviews', 'Size', 'Installs', 'Type', 'Price', 'Content Rating', 'Genres', 'Last Updated', 'Current Ver', 'Android Ver'] \n",
      "\n",
      "['Photo Editor & Candy Camera & Grid & ScrapBook', 'ART_AND_DESIGN', '4.1', '159', '19M', '10,000+', 'Free', '0', 'Everyone', 'Art & Design', 'January 7, 2018', '1.0.0', '4.0.3 and up']\n",
      "\n",
      "\n",
      "['Coloring book moana', 'ART_AND_DESIGN', '3.9', '967', '14M', '500,000+', 'Free', '0', 'Everyone', 'Art & Design;Pretend Play', 'January 15, 2018', '2.0.0', '4.0.3 and up']\n",
      "\n",
      "\n",
      "['U Launcher Lite – FREE Live Cool Themes, Hide Apps', 'ART_AND_DESIGN', '4.7', '87510', '8.7M', '5,000,000+', 'Free', '0', 'Everyone', 'Art & Design', 'August 1, 2018', '1.2.4', '4.0.3 and up']\n",
      "\n",
      "\n",
      "['Sketch - Draw & Paint', 'ART_AND_DESIGN', '4.5', '215644', '25M', '50,000,000+', 'Free', '0', 'Teen', 'Art & Design', 'June 8, 2018', 'Varies with device', '4.2 and up']\n",
      "\n",
      "\n",
      "['Pixel Draw - Number Art Coloring Book', 'ART_AND_DESIGN', '4.3', '967', '2.8M', '100,000+', 'Free', '0', 'Everyone', 'Art & Design;Creativity', 'June 20, 2018', '1.1', '4.4 and up']\n",
      "\n",
      "\n",
      "['Paper flowers instructions', 'ART_AND_DESIGN', '4.4', '167', '5.6M', '50,000+', 'Free', '0', 'Everyone', 'Art & Design', 'March 26, 2017', '1.0', '2.3 and up']\n",
      "\n",
      "\n",
      "['Smoke Effect Photo Maker - Smoke Editor', 'ART_AND_DESIGN', '3.8', '178', '19M', '50,000+', 'Free', '0', 'Everyone', 'Art & Design', 'April 26, 2018', '1.1', '4.0.3 and up']\n",
      "\n",
      "\n",
      "['Infinite Painter', 'ART_AND_DESIGN', '4.1', '36815', '29M', '1,000,000+', 'Free', '0', 'Everyone', 'Art & Design', 'June 14, 2018', '6.1.61.1', '4.2 and up']\n",
      "\n",
      "\n",
      "['Garden Coloring Book', 'ART_AND_DESIGN', '4.4', '13791', '33M', '1,000,000+', 'Free', '0', 'Everyone', 'Art & Design', 'September 20, 2017', '2.9.2', '3.0 and up']\n",
      "\n",
      "\n",
      "['Kids Paint Free - Drawing Fun', 'ART_AND_DESIGN', '4.7', '121', '3.1M', '10,000+', 'Free', '0', 'Everyone', 'Art & Design;Creativity', 'July 3, 2018', '2.8', '4.0.3 and up']\n",
      "\n",
      "\n"
     ]
    }
   ],
   "source": [
    "print('Columns:', google_apps[0],'\\n')\n",
    "explore_data(google_apps[1:], 0, 10)"
   ]
  },
  {
   "cell_type": "markdown",
   "metadata": {},
   "source": [
    "### Remove row 10472 of Google Store Dataset\n",
    "This is because, it doesn't include the ***Category*** column"
   ]
  },
  {
   "cell_type": "code",
   "execution_count": 17,
   "metadata": {},
   "outputs": [
    {
     "name": "stdout",
     "output_type": "stream",
     "text": [
      "['App', 'Category', 'Rating', 'Reviews', 'Size', 'Installs', 'Type', 'Price', 'Content Rating', 'Genres', 'Last Updated', 'Current Ver', 'Android Ver']\n",
      "['Life Made WI-Fi Touchscreen Photo Frame', '1.9', '19', '3.0M', '1,000+', 'Free', '0', 'Everyone', '', 'February 11, 2018', '1.0.19', '4.0 and up']\n"
     ]
    }
   ],
   "source": [
    "print(google_apps[0])\n",
    "print(google_apps[10472+1])\n",
    "del google_apps[10472+1]"
   ]
  },
  {
   "cell_type": "markdown",
   "metadata": {},
   "source": [
    "### Remove duplicates\n",
    "It is found that the datasets have duplicate entries. The following code shows one example in the Google Store dataset."
   ]
  },
  {
   "cell_type": "code",
   "execution_count": 18,
   "metadata": {},
   "outputs": [
    {
     "name": "stdout",
     "output_type": "stream",
     "text": [
      "['Instagram', 'SOCIAL', '4.5', '66577313', 'Varies with device', '1,000,000,000+', 'Free', '0', 'Teen', 'Social', 'July 31, 2018', 'Varies with device', 'Varies with device']\n",
      "['Instagram', 'SOCIAL', '4.5', '66577446', 'Varies with device', '1,000,000,000+', 'Free', '0', 'Teen', 'Social', 'July 31, 2018', 'Varies with device', 'Varies with device']\n",
      "['Instagram', 'SOCIAL', '4.5', '66577313', 'Varies with device', '1,000,000,000+', 'Free', '0', 'Teen', 'Social', 'July 31, 2018', 'Varies with device', 'Varies with device']\n",
      "['Instagram', 'SOCIAL', '4.5', '66509917', 'Varies with device', '1,000,000,000+', 'Free', '0', 'Teen', 'Social', 'July 31, 2018', 'Varies with device', 'Varies with device']\n"
     ]
    }
   ],
   "source": [
    "for app in google_apps[1:]:\n",
    "    name = app[0]\n",
    "\n",
    "    if (name == 'Instagram'):\n",
    "        print(app)"
   ]
  },
  {
   "cell_type": "markdown",
   "metadata": {},
   "source": [
    "To solve this, duplicates and unique apps are collected"
   ]
  },
  {
   "cell_type": "code",
   "execution_count": 19,
   "metadata": {},
   "outputs": [
    {
     "name": "stdout",
     "output_type": "stream",
     "text": [
      "Number of duplicates Apple Store: 0\n",
      "Number of duplicates Google Store: 1181\n"
     ]
    }
   ],
   "source": [
    "# Create a function to collect duplicates of both datasets\n",
    "def collect_duplicates(data):\n",
    "    unique_apps = []\n",
    "    duplicate_apps = []\n",
    "    for app in data:\n",
    "        app_name = app[0]\n",
    "        if app_name in unique_apps:\n",
    "            duplicate_apps.append(app_name)\n",
    "        else:\n",
    "            unique_apps.append(app_name)\n",
    "    return unique_apps, duplicate_apps\n",
    "\n",
    "# Apple Store duplicates\n",
    "unique_apple, duplicate_apple = collect_duplicates(apple_apps[1:])\n",
    "print(f'Number of duplicates Apple Store: {len(duplicate_apple)}')\n",
    "\n",
    "# Google Store duplicates\n",
    "unique_google, duplicate_google = collect_duplicates(google_apps[1:])\n",
    "print(f'Number of duplicates Google Store: {len(duplicate_google)}')"
   ]
  },
  {
   "cell_type": "markdown",
   "metadata": {},
   "source": [
    "After finding duplicates, there has to be a criterion to keep one of these duplicates, since eliminating all of them would damage the analysis. So, in this case, the criterion for keeping one of each duplicates is based on the number of reviews: the row with more reviews is kept."
   ]
  },
  {
   "cell_type": "markdown",
   "metadata": {},
   "source": [
    "In order to acomplish this, let's create a dictionary to store the apps and their greatest number of reviews"
   ]
  },
  {
   "cell_type": "code",
   "execution_count": 20,
   "metadata": {},
   "outputs": [
    {
     "name": "stdout",
     "output_type": "stream",
     "text": [
      "9659\n"
     ]
    }
   ],
   "source": [
    "reviews_max = {}\n",
    "\n",
    "# Iterate over the google_apps dataset\n",
    "for app in google_apps[1:]:\n",
    "    \n",
    "    # Get the name\n",
    "    name = app[0]\n",
    "    \n",
    "    # Get the number of reviews\n",
    "    n_reviews = float(app[3])\n",
    "    \n",
    "    # if the app is already in the dictionary and\n",
    "    # the number of reviews is greater than the current one\n",
    "    # then update the number of reviews\n",
    "    if (name in reviews_max) and (reviews_max[name] < n_reviews):\n",
    "        reviews_max[name] = n_reviews\n",
    "    elif (name not in reviews_max):\n",
    "        reviews_max[name] = n_reviews\n",
    "\n",
    "# Check that the number of rows is 9659\n",
    "print(len(reviews_max))\n",
    "\n",
    "# Print the dictionary\n",
    "# reviews_max\n",
    "        "
   ]
  },
  {
   "cell_type": "markdown",
   "metadata": {},
   "source": [
    "After collecting the maximum number of reviews for each app, let's clean the data by checking each row in the google_apps list "
   ]
  },
  {
   "cell_type": "code",
   "execution_count": 21,
   "metadata": {},
   "outputs": [
    {
     "name": "stdout",
     "output_type": "stream",
     "text": [
      "['Photo Editor & Candy Camera & Grid & ScrapBook', 'ART_AND_DESIGN', '4.1', '159', '19M', '10,000+', 'Free', '0', 'Everyone', 'Art & Design', 'January 7, 2018', '1.0.0', '4.0.3 and up']\n",
      "\n",
      "\n",
      "['U Launcher Lite – FREE Live Cool Themes, Hide Apps', 'ART_AND_DESIGN', '4.7', '87510', '8.7M', '5,000,000+', 'Free', '0', 'Everyone', 'Art & Design', 'August 1, 2018', '1.2.4', '4.0.3 and up']\n",
      "\n",
      "\n",
      "['Sketch - Draw & Paint', 'ART_AND_DESIGN', '4.5', '215644', '25M', '50,000,000+', 'Free', '0', 'Teen', 'Art & Design', 'June 8, 2018', 'Varies with device', '4.2 and up']\n",
      "\n",
      "\n",
      "Number of rows: 9659\n",
      "Number of columns: 13\n"
     ]
    }
   ],
   "source": [
    "google_clean = [google_apps[0]]\n",
    "already_added = []\n",
    "\n",
    "# Loop through the google apps data\n",
    "for app in google_apps[1:]:\n",
    "    \n",
    "    # Get the name\n",
    "    name = app[0]\n",
    "    \n",
    "    # Get the number of reviews\n",
    "    n_reviews = float(app[3])\n",
    "    \n",
    "    if (name not in already_added) and (n_reviews == reviews_max[name]):\n",
    "        \n",
    "        # Add the app data to the clean list\n",
    "        google_clean.append(app)\n",
    "        \n",
    "        # Add the name to the already_added list\n",
    "        # in order not to add duplicates to the clean list\n",
    "        already_added.append(name)\n",
    "        \n",
    "# Check if the number of apps is 9659 in the clean list\n",
    "explore_data(google_clean[1:], 0, 3, True)"
   ]
  },
  {
   "cell_type": "code",
   "execution_count": 22,
   "metadata": {},
   "outputs": [],
   "source": [
    "google_apps = google_clean[:]"
   ]
  },
  {
   "cell_type": "markdown",
   "metadata": {},
   "source": [
    "### Remove Non-English Apps"
   ]
  },
  {
   "cell_type": "markdown",
   "metadata": {},
   "source": [
    "Let's start by defining a function that checks if a string has a non-english character"
   ]
  },
  {
   "cell_type": "code",
   "execution_count": 23,
   "metadata": {},
   "outputs": [],
   "source": [
    "def check_english_str(app_name):\n",
    "    \n",
    "    # Iterate over the word\n",
    "    for char in app_name:\n",
    "        \n",
    "        # Check if the character is greater than 127\n",
    "        if ord(char) > 127:\n",
    "            return False\n",
    " \n",
    "    return True"
   ]
  },
  {
   "cell_type": "markdown",
   "metadata": {},
   "source": [
    "Let's test the function"
   ]
  },
  {
   "cell_type": "code",
   "execution_count": 24,
   "metadata": {
    "scrolled": true
   },
   "outputs": [
    {
     "name": "stdout",
     "output_type": "stream",
     "text": [
      "True\n",
      "False\n",
      "False\n",
      "False\n"
     ]
    }
   ],
   "source": [
    "print(check_english_str('Instagram'))\n",
    "print(check_english_str('爱奇艺PPS -《欢乐颂2》电视剧热播'))\n",
    "print(check_english_str('Docs To Go™ Free Office Suite'))\n",
    "print(check_english_str('Instachat 😜'))"
   ]
  },
  {
   "cell_type": "markdown",
   "metadata": {},
   "source": [
    "As it is shown, the last 2 apps should be detected as English apps but they are not since the TM character in the first one and the emoji in the second one. So the way to address this problem will be accepting the name with up-to 3 non-english characters"
   ]
  },
  {
   "cell_type": "code",
   "execution_count": 25,
   "metadata": {},
   "outputs": [],
   "source": [
    "def check_english_str(app_name):\n",
    "    \n",
    "    # Iterate over the word\n",
    "    flag = True\n",
    "    cont = 0\n",
    "    for char in app_name:\n",
    "        \n",
    "        # Check if the character is greater than 127\n",
    "        if ord(char) > 127:\n",
    "            \n",
    "            # update the counter\n",
    "            cont += 1\n",
    "            \n",
    "            # check if there are more than 3 non-english chars\n",
    "            if cont > 3:\n",
    "                return False\n",
    " \n",
    "    return True"
   ]
  },
  {
   "cell_type": "markdown",
   "metadata": {},
   "source": [
    "Let's test the function"
   ]
  },
  {
   "cell_type": "code",
   "execution_count": 26,
   "metadata": {},
   "outputs": [
    {
     "name": "stdout",
     "output_type": "stream",
     "text": [
      "True\n",
      "False\n",
      "True\n",
      "True\n",
      "True\n"
     ]
    }
   ],
   "source": [
    "print(check_english_str('Instagram'))\n",
    "print(check_english_str('爱奇艺PPS -《欢乐颂2》电视剧热播'))\n",
    "print(check_english_str('Docs To Go™ Free Office Suite'))\n",
    "print(check_english_str('Instachat 😜'))\n",
    "print(check_english_str('Truyện Vui Tý Quậy'))"
   ]
  },
  {
   "cell_type": "markdown",
   "metadata": {},
   "source": [
    "Now, let's use the function to remove non-English apps from both datasets"
   ]
  },
  {
   "cell_type": "code",
   "execution_count": 27,
   "metadata": {},
   "outputs": [],
   "source": [
    "def Remove_non_english_apps(data, idx_name):\n",
    "\n",
    "    # Iterate over the dataset\n",
    "    non_english = []\n",
    "    for cont, app in enumerate(data[1:]):\n",
    "\n",
    "        # Get the app name\n",
    "        name = app[idx_name]\n",
    "\n",
    "        # Check if it's an english app\n",
    "        if not(check_english_str(name)):\n",
    "            # print(name)\n",
    "            non_english.append(app)\n",
    "            data.remove(app)\n",
    "    \n",
    "    return data, non_english"
   ]
  },
  {
   "cell_type": "markdown",
   "metadata": {},
   "source": [
    "Apple Store Dataset"
   ]
  },
  {
   "cell_type": "code",
   "execution_count": 28,
   "metadata": {},
   "outputs": [
    {
     "name": "stdout",
     "output_type": "stream",
     "text": [
      "Removing non-English apps from Apple Store\n",
      "\n",
      "Before removing non-English apps\n",
      "Number of rows: 7197\n",
      "Number of columns: 16\n",
      "\n",
      "Non-English apps: 1014 \n",
      "\n",
      "After removing non-English apps\n",
      "Number of rows: 6183\n",
      "Number of columns: 16\n"
     ]
    }
   ],
   "source": [
    "print(\"Removing non-English apps from Apple Store\\n\")\n",
    "\n",
    "print(\"Before removing non-English apps\")\n",
    "explore_data(apple_apps[1:], 0, 0, True)\n",
    "print()\n",
    "\n",
    "apple_apps, non_english_apple = Remove_non_english_apps(apple_apps, 1)\n",
    "    \n",
    "# Check how many English apps are remaining and\n",
    "# how many non-English apps were removed\n",
    "print(\"Non-English apps:\", len(non_english_apple),\"\\n\")\n",
    "\n",
    "print(\"After removing non-English apps\")\n",
    "explore_data(apple_apps[1:], 0, 0, True)"
   ]
  },
  {
   "cell_type": "markdown",
   "metadata": {},
   "source": [
    "Google Dataset"
   ]
  },
  {
   "cell_type": "code",
   "execution_count": 29,
   "metadata": {},
   "outputs": [
    {
     "name": "stdout",
     "output_type": "stream",
     "text": [
      "Removing non-English apps from Google Store\n",
      "\n",
      "Before removing non-English apps\n",
      "Number of rows: 9659\n",
      "Number of columns: 13\n",
      "\n",
      "Non-English apps: 45 \n",
      "\n",
      "After removing non-English apps\n",
      "Number of rows: 9614\n",
      "Number of columns: 13\n"
     ]
    }
   ],
   "source": [
    "print(\"Removing non-English apps from Google Store\\n\")\n",
    "\n",
    "print(\"Before removing non-English apps\")\n",
    "explore_data(google_apps[1:], 0, 0, True)\n",
    "print()\n",
    "\n",
    "google_apps, non_english_google = Remove_non_english_apps(google_clean, 0)\n",
    "    \n",
    "# Check how many English apps are remaining and\n",
    "# how many non-English apps were removed\n",
    "print(\"Non-English apps:\", len(non_english_google),\"\\n\")\n",
    "\n",
    "print(\"After removing non-English apps\")\n",
    "explore_data(google_apps[1:], 0, 0, True)"
   ]
  },
  {
   "cell_type": "markdown",
   "metadata": {},
   "source": [
    "### Isolating the Free Apps"
   ]
  },
  {
   "cell_type": "code",
   "execution_count": 30,
   "metadata": {},
   "outputs": [],
   "source": [
    "def Isolate_free_apps(data, idx_price, dataset_name):\n",
    "    \n",
    "    free_apps = [data[0]]\n",
    "    \n",
    "    # Iterate over the dataset\n",
    "    for app in data[1:]:\n",
    "    \n",
    "        if dataset_name == \"apple\":\n",
    "            \n",
    "            # Get the price\n",
    "            price = float(app[idx_price])\n",
    "            \n",
    "            # Check if the app is free\n",
    "            if price == 0:\n",
    "                free_apps.append(app)\n",
    "        \n",
    "        elif dataset_name == \"google\":\n",
    "            \n",
    "            # Get the price\n",
    "            price = app[idx_price]\n",
    "            \n",
    "            # Check if the app is free\n",
    "            if price == '0':\n",
    "                free_apps.append(app)\n",
    "            \n",
    "    return free_apps"
   ]
  },
  {
   "cell_type": "markdown",
   "metadata": {},
   "source": [
    "Apple Store"
   ]
  },
  {
   "cell_type": "code",
   "execution_count": 31,
   "metadata": {},
   "outputs": [
    {
     "name": "stdout",
     "output_type": "stream",
     "text": [
      "Removing non-Free apps from Apple Store\n",
      "\n",
      "Before removing non-Free apps\n",
      "Number of rows: 6183\n",
      "Number of columns: 16\n",
      "\n",
      "After removing non-Free apps\n",
      "Number of rows: 3222\n",
      "Number of columns: 16\n"
     ]
    }
   ],
   "source": [
    "print(\"Removing non-Free apps from Apple Store\\n\")\n",
    "\n",
    "print(\"Before removing non-Free apps\")\n",
    "explore_data(apple_apps[1:], 0, 0, True)\n",
    "print()\n",
    "\n",
    "apple_apps = Isolate_free_apps(apple_apps, 4, \"apple\")\n",
    "\n",
    "print(\"After removing non-Free apps\")\n",
    "explore_data(apple_apps[1:], 0, 0, True)"
   ]
  },
  {
   "cell_type": "code",
   "execution_count": 32,
   "metadata": {},
   "outputs": [
    {
     "name": "stdout",
     "output_type": "stream",
     "text": [
      "Removing non-Free apps from Google Store\n",
      "\n",
      "Before removing non-Free apps\n",
      "Number of rows: 9614\n",
      "Number of columns: 13\n",
      "\n",
      "After removing non-Free apps\n",
      "Number of rows: 8864\n",
      "Number of columns: 13\n"
     ]
    }
   ],
   "source": [
    "print(\"Removing non-Free apps from Google Store\\n\")\n",
    "\n",
    "print(\"Before removing non-Free apps\")\n",
    "explore_data(google_apps[1:], 0, 0, True)\n",
    "print()\n",
    "\n",
    "google_apps = Isolate_free_apps(google_apps, 7, \"google\")\n",
    "\n",
    "print(\"After removing non-Free apps\")\n",
    "explore_data(google_apps[1:], 0, 0, True)"
   ]
  },
  {
   "cell_type": "markdown",
   "metadata": {},
   "source": [
    "### Data cleaning done!"
   ]
  },
  {
   "cell_type": "markdown",
   "metadata": {},
   "source": [
    "#### Apple Store"
   ]
  },
  {
   "cell_type": "code",
   "execution_count": 33,
   "metadata": {},
   "outputs": [
    {
     "name": "stdout",
     "output_type": "stream",
     "text": [
      "['284882215', 'Facebook', '389879808', 'USD', '0.0', '2974676', '212', '3.5', '3.5', '95.0', '4+', 'Social Networking', '37', '1', '29', '1']\n",
      "\n",
      "\n",
      "['389801252', 'Instagram', '113954816', 'USD', '0.0', '2161558', '1289', '4.5', '4.0', '10.23', '12+', 'Photo & Video', '37', '0', '29', '1']\n",
      "\n",
      "\n",
      "['529479190', 'Clash of Clans', '116476928', 'USD', '0.0', '2130805', '579', '4.5', '4.5', '9.24.12', '9+', 'Games', '38', '5', '18', '1']\n",
      "\n",
      "\n",
      "['420009108', 'Temple Run', '65921024', 'USD', '0.0', '1724546', '3842', '4.5', '4.0', '1.6.2', '9+', 'Games', '40', '5', '1', '1']\n",
      "\n",
      "\n",
      "['284035177', 'Pandora - Music & Radio', '130242560', 'USD', '0.0', '1126879', '3594', '4.0', '4.5', '8.4.1', '12+', 'Music', '37', '4', '1', '1']\n",
      "\n",
      "\n",
      "['429047995', 'Pinterest', '74778624', 'USD', '0.0', '1061624', '1814', '4.5', '4.0', '6.26', '12+', 'Social Networking', '37', '5', '27', '1']\n",
      "\n",
      "\n",
      "['282935706', 'Bible', '92774400', 'USD', '0.0', '985920', '5320', '4.5', '5.0', '7.5.1', '4+', 'Reference', '37', '5', '45', '1']\n",
      "\n",
      "\n",
      "['553834731', 'Candy Crush Saga', '222846976', 'USD', '0.0', '961794', '2453', '4.5', '4.5', '1.101.0', '4+', 'Games', '43', '5', '24', '1']\n",
      "\n",
      "\n",
      "['324684580', 'Spotify Music', '132510720', 'USD', '0.0', '878563', '8253', '4.5', '4.5', '8.4.3', '12+', 'Music', '37', '5', '18', '1']\n",
      "\n",
      "\n",
      "['343200656', 'Angry Birds', '175966208', 'USD', '0.0', '824451', '107', '4.5', '3.0', '7.4.0', '4+', 'Games', '38', '0', '10', '1']\n",
      "\n",
      "\n",
      "Number of rows: 3222\n",
      "Number of columns: 16\n"
     ]
    }
   ],
   "source": [
    "explore_data(apple_apps[1:],0,10,True)"
   ]
  },
  {
   "cell_type": "markdown",
   "metadata": {},
   "source": [
    "#### Google Store"
   ]
  },
  {
   "cell_type": "code",
   "execution_count": 34,
   "metadata": {},
   "outputs": [
    {
     "name": "stdout",
     "output_type": "stream",
     "text": [
      "['Photo Editor & Candy Camera & Grid & ScrapBook', 'ART_AND_DESIGN', '4.1', '159', '19M', '10,000+', 'Free', '0', 'Everyone', 'Art & Design', 'January 7, 2018', '1.0.0', '4.0.3 and up']\n",
      "\n",
      "\n",
      "['U Launcher Lite – FREE Live Cool Themes, Hide Apps', 'ART_AND_DESIGN', '4.7', '87510', '8.7M', '5,000,000+', 'Free', '0', 'Everyone', 'Art & Design', 'August 1, 2018', '1.2.4', '4.0.3 and up']\n",
      "\n",
      "\n",
      "['Sketch - Draw & Paint', 'ART_AND_DESIGN', '4.5', '215644', '25M', '50,000,000+', 'Free', '0', 'Teen', 'Art & Design', 'June 8, 2018', 'Varies with device', '4.2 and up']\n",
      "\n",
      "\n",
      "['Pixel Draw - Number Art Coloring Book', 'ART_AND_DESIGN', '4.3', '967', '2.8M', '100,000+', 'Free', '0', 'Everyone', 'Art & Design;Creativity', 'June 20, 2018', '1.1', '4.4 and up']\n",
      "\n",
      "\n",
      "['Paper flowers instructions', 'ART_AND_DESIGN', '4.4', '167', '5.6M', '50,000+', 'Free', '0', 'Everyone', 'Art & Design', 'March 26, 2017', '1.0', '2.3 and up']\n",
      "\n",
      "\n",
      "['Smoke Effect Photo Maker - Smoke Editor', 'ART_AND_DESIGN', '3.8', '178', '19M', '50,000+', 'Free', '0', 'Everyone', 'Art & Design', 'April 26, 2018', '1.1', '4.0.3 and up']\n",
      "\n",
      "\n",
      "['Infinite Painter', 'ART_AND_DESIGN', '4.1', '36815', '29M', '1,000,000+', 'Free', '0', 'Everyone', 'Art & Design', 'June 14, 2018', '6.1.61.1', '4.2 and up']\n",
      "\n",
      "\n",
      "['Garden Coloring Book', 'ART_AND_DESIGN', '4.4', '13791', '33M', '1,000,000+', 'Free', '0', 'Everyone', 'Art & Design', 'September 20, 2017', '2.9.2', '3.0 and up']\n",
      "\n",
      "\n",
      "['Kids Paint Free - Drawing Fun', 'ART_AND_DESIGN', '4.7', '121', '3.1M', '10,000+', 'Free', '0', 'Everyone', 'Art & Design;Creativity', 'July 3, 2018', '2.8', '4.0.3 and up']\n",
      "\n",
      "\n",
      "['Text on Photo - Fonteee', 'ART_AND_DESIGN', '4.4', '13880', '28M', '1,000,000+', 'Free', '0', 'Everyone', 'Art & Design', 'October 27, 2017', '1.0.4', '4.1 and up']\n",
      "\n",
      "\n",
      "Number of rows: 8864\n",
      "Number of columns: 13\n"
     ]
    }
   ],
   "source": [
    "explore_data(google_apps[1:],0,10,True)"
   ]
  },
  {
   "cell_type": "markdown",
   "metadata": {},
   "source": [
    "### Most Common Apps by Genre"
   ]
  },
  {
   "cell_type": "markdown",
   "metadata": {},
   "source": [
    "Since the objective of the analysis is to get to more users in both Google Play and App Store, it is necessary to find app profiles that are successful in both markets. So, in order to achieve this, frequency tables will be generated."
   ]
  },
  {
   "cell_type": "markdown",
   "metadata": {},
   "source": [
    "Columns that can help to generate these frequency tables:\n",
    "+ For the App Store:\n",
    "    + prime_genre\n",
    "+ For the Google Play Store:\n",
    "    + Genres\n",
    "    + Category"
   ]
  },
  {
   "cell_type": "markdown",
   "metadata": {},
   "source": [
    "We'll build two functions we can use to analyze the frequency tables:\n",
    "+ One function to generate frequency tables that show percentages\n",
    "+ Another function we can use to display the percentages in a descending order"
   ]
  },
  {
   "cell_type": "code",
   "execution_count": 35,
   "metadata": {},
   "outputs": [],
   "source": [
    "def freq_table(dataset, index):\n",
    "    \n",
    "    # Create a dictionary for storing genres frequencies\n",
    "    table = {}\n",
    "    \n",
    "    # Iterate over the dataset\n",
    "    for app in dataset[1:]:\n",
    "        \n",
    "        # Get the genre\n",
    "        genre = app[index]\n",
    "        \n",
    "        # Check if adding a repetition or creating a new entry\n",
    "        if (genre in table):\n",
    "            table[genre] += 1\n",
    "        else:\n",
    "            table[genre] = 1\n",
    "    \n",
    "    # Express frequencies as percentages\n",
    "    num_apps = len(dataset[1:])\n",
    "    for app in table:\n",
    "        table[app] = table[app] * (100.0 / num_apps)\n",
    "    \n",
    "    return table"
   ]
  },
  {
   "cell_type": "code",
   "execution_count": 36,
   "metadata": {},
   "outputs": [],
   "source": [
    "def display_table(dataset, index):\n",
    "    \n",
    "    # Get the table\n",
    "    table = freq_table(dataset, index)\n",
    "    \n",
    "    # Create the list to display\n",
    "    table_display = []\n",
    "    \n",
    "    # Iterate over the table\n",
    "    for key in table:\n",
    "        \n",
    "        # Convert the key-value pair to a tuple\n",
    "        key_val_as_tuple = (table[key], key)\n",
    "        \n",
    "        # Append this tuple to the display list\n",
    "        table_display.append(key_val_as_tuple)\n",
    "    \n",
    "    # Sort the list of tuples in descending order\n",
    "    table_sorted = sorted(table_display, reverse = True)\n",
    "    \n",
    "    # Print the results\n",
    "    for entry in table_sorted:\n",
    "        print('{} : {:.3f}%'.format(entry[1],entry[0]))"
   ]
  },
  {
   "cell_type": "markdown",
   "metadata": {},
   "source": [
    "**App Store**"
   ]
  },
  {
   "cell_type": "code",
   "execution_count": 37,
   "metadata": {},
   "outputs": [
    {
     "name": "stdout",
     "output_type": "stream",
     "text": [
      "Frequency table (in percentages) for the App Store\n",
      "Games : 58.163%\n",
      "Entertainment : 7.883%\n",
      "Photo & Video : 4.966%\n",
      "Education : 3.662%\n",
      "Social Networking : 3.290%\n",
      "Shopping : 2.607%\n",
      "Utilities : 2.514%\n",
      "Sports : 2.142%\n",
      "Music : 2.048%\n",
      "Health & Fitness : 2.017%\n",
      "Productivity : 1.738%\n",
      "Lifestyle : 1.583%\n",
      "News : 1.335%\n",
      "Travel : 1.241%\n",
      "Finance : 1.117%\n",
      "Weather : 0.869%\n",
      "Food & Drink : 0.807%\n",
      "Reference : 0.559%\n",
      "Business : 0.528%\n",
      "Book : 0.435%\n",
      "Navigation : 0.186%\n",
      "Medical : 0.186%\n",
      "Catalogs : 0.124%\n"
     ]
    }
   ],
   "source": [
    "print('Frequency table (in percentages) for the App Store')\n",
    "display_table(apple_apps, 11)"
   ]
  },
  {
   "cell_type": "markdown",
   "metadata": {},
   "source": [
    "For the Apple Store dataset the most common genre is Games (in the free Enlgish apps section) and the second most common is Entertainment. Also, it is important to mention that the the Games category holds more than the half of the number of apps while the rest has no more than 8%. Furthermore, most of the apps are used of entertainment (games, photo and video, social networking, sports, music) than for practical use (education, shopping, utilities, productivity, lifestyle).\n",
    "\n",
    "Based on this, the app profile recommended in the App Store should be the one related to entertainment since there are lots of apps in this category."
   ]
  },
  {
   "cell_type": "markdown",
   "metadata": {},
   "source": [
    "**Google PlayStore**"
   ]
  },
  {
   "cell_type": "code",
   "execution_count": 38,
   "metadata": {
    "scrolled": false
   },
   "outputs": [
    {
     "name": "stdout",
     "output_type": "stream",
     "text": [
      "Frequency table (in percentages) for the Google PlayStore\n",
      "\n",
      "1. Categories\n",
      "FAMILY : 18.908%\n",
      "GAME : 9.725%\n",
      "TOOLS : 8.461%\n",
      "BUSINESS : 4.592%\n",
      "LIFESTYLE : 3.903%\n",
      "PRODUCTIVITY : 3.892%\n",
      "FINANCE : 3.700%\n",
      "MEDICAL : 3.531%\n",
      "SPORTS : 3.396%\n",
      "PERSONALIZATION : 3.317%\n",
      "COMMUNICATION : 3.238%\n",
      "HEALTH_AND_FITNESS : 3.080%\n",
      "PHOTOGRAPHY : 2.944%\n",
      "NEWS_AND_MAGAZINES : 2.798%\n",
      "SOCIAL : 2.662%\n",
      "TRAVEL_AND_LOCAL : 2.335%\n",
      "SHOPPING : 2.245%\n",
      "BOOKS_AND_REFERENCE : 2.144%\n",
      "DATING : 1.861%\n",
      "VIDEO_PLAYERS : 1.794%\n",
      "MAPS_AND_NAVIGATION : 1.399%\n",
      "FOOD_AND_DRINK : 1.241%\n",
      "EDUCATION : 1.162%\n",
      "ENTERTAINMENT : 0.959%\n",
      "LIBRARIES_AND_DEMO : 0.936%\n",
      "AUTO_AND_VEHICLES : 0.925%\n",
      "HOUSE_AND_HOME : 0.824%\n",
      "WEATHER : 0.801%\n",
      "EVENTS : 0.711%\n",
      "PARENTING : 0.654%\n",
      "ART_AND_DESIGN : 0.643%\n",
      "COMICS : 0.620%\n",
      "BEAUTY : 0.598%\n",
      "\n",
      "2. Genres\n",
      "Tools : 8.450%\n",
      "Entertainment : 6.069%\n",
      "Education : 5.347%\n",
      "Business : 4.592%\n",
      "Productivity : 3.892%\n",
      "Lifestyle : 3.892%\n",
      "Finance : 3.700%\n",
      "Medical : 3.531%\n",
      "Sports : 3.463%\n",
      "Personalization : 3.317%\n",
      "Communication : 3.238%\n",
      "Action : 3.102%\n",
      "Health & Fitness : 3.080%\n",
      "Photography : 2.944%\n",
      "News & Magazines : 2.798%\n",
      "Social : 2.662%\n",
      "Travel & Local : 2.324%\n",
      "Shopping : 2.245%\n",
      "Books & Reference : 2.144%\n",
      "Simulation : 2.042%\n",
      "Dating : 1.861%\n",
      "Arcade : 1.850%\n",
      "Video Players & Editors : 1.771%\n",
      "Casual : 1.760%\n",
      "Maps & Navigation : 1.399%\n",
      "Food & Drink : 1.241%\n",
      "Puzzle : 1.128%\n",
      "Racing : 0.993%\n",
      "Role Playing : 0.936%\n",
      "Libraries & Demo : 0.936%\n",
      "Auto & Vehicles : 0.925%\n",
      "Strategy : 0.914%\n",
      "House & Home : 0.824%\n",
      "Weather : 0.801%\n",
      "Events : 0.711%\n",
      "Adventure : 0.677%\n",
      "Comics : 0.609%\n",
      "Beauty : 0.598%\n",
      "Art & Design : 0.598%\n",
      "Parenting : 0.496%\n",
      "Card : 0.451%\n",
      "Casino : 0.429%\n",
      "Trivia : 0.417%\n",
      "Educational;Education : 0.395%\n",
      "Board : 0.384%\n",
      "Educational : 0.372%\n",
      "Education;Education : 0.338%\n",
      "Word : 0.259%\n",
      "Casual;Pretend Play : 0.237%\n",
      "Music : 0.203%\n",
      "Racing;Action & Adventure : 0.169%\n",
      "Puzzle;Brain Games : 0.169%\n",
      "Entertainment;Music & Video : 0.169%\n",
      "Casual;Brain Games : 0.135%\n",
      "Casual;Action & Adventure : 0.135%\n",
      "Arcade;Action & Adventure : 0.124%\n",
      "Action;Action & Adventure : 0.102%\n",
      "Educational;Pretend Play : 0.090%\n",
      "Simulation;Action & Adventure : 0.079%\n",
      "Parenting;Education : 0.079%\n",
      "Entertainment;Brain Games : 0.079%\n",
      "Board;Brain Games : 0.079%\n",
      "Parenting;Music & Video : 0.068%\n",
      "Educational;Brain Games : 0.068%\n",
      "Casual;Creativity : 0.068%\n",
      "Art & Design;Creativity : 0.068%\n",
      "Education;Pretend Play : 0.056%\n",
      "Role Playing;Pretend Play : 0.045%\n",
      "Education;Creativity : 0.045%\n",
      "Role Playing;Action & Adventure : 0.034%\n",
      "Puzzle;Action & Adventure : 0.034%\n",
      "Entertainment;Creativity : 0.034%\n",
      "Entertainment;Action & Adventure : 0.034%\n",
      "Educational;Creativity : 0.034%\n",
      "Educational;Action & Adventure : 0.034%\n",
      "Education;Music & Video : 0.034%\n",
      "Education;Brain Games : 0.034%\n",
      "Education;Action & Adventure : 0.034%\n",
      "Adventure;Action & Adventure : 0.034%\n",
      "Video Players & Editors;Music & Video : 0.023%\n",
      "Sports;Action & Adventure : 0.023%\n",
      "Simulation;Pretend Play : 0.023%\n",
      "Puzzle;Creativity : 0.023%\n",
      "Music;Music & Video : 0.023%\n",
      "Entertainment;Pretend Play : 0.023%\n",
      "Casual;Education : 0.023%\n",
      "Board;Action & Adventure : 0.023%\n",
      "Video Players & Editors;Creativity : 0.011%\n",
      "Trivia;Education : 0.011%\n",
      "Travel & Local;Action & Adventure : 0.011%\n",
      "Tools;Education : 0.011%\n",
      "Strategy;Education : 0.011%\n",
      "Strategy;Creativity : 0.011%\n",
      "Strategy;Action & Adventure : 0.011%\n",
      "Simulation;Education : 0.011%\n",
      "Role Playing;Brain Games : 0.011%\n",
      "Racing;Pretend Play : 0.011%\n",
      "Puzzle;Education : 0.011%\n",
      "Parenting;Brain Games : 0.011%\n",
      "Music & Audio;Music & Video : 0.011%\n",
      "Lifestyle;Pretend Play : 0.011%\n",
      "Lifestyle;Education : 0.011%\n",
      "Health & Fitness;Education : 0.011%\n",
      "Health & Fitness;Action & Adventure : 0.011%\n",
      "Entertainment;Education : 0.011%\n",
      "Communication;Creativity : 0.011%\n",
      "Comics;Creativity : 0.011%\n",
      "Casual;Music & Video : 0.011%\n",
      "Card;Action & Adventure : 0.011%\n",
      "Books & Reference;Education : 0.011%\n",
      "Art & Design;Pretend Play : 0.011%\n",
      "Art & Design;Action & Adventure : 0.011%\n",
      "Arcade;Pretend Play : 0.011%\n",
      "Adventure;Education : 0.011%\n"
     ]
    }
   ],
   "source": [
    "print('Frequency table (in percentages) for the Google PlayStore')\n",
    "\n",
    "print('\\n1. Categories')\n",
    "display_table(google_apps, 1)\n",
    "\n",
    "print('\\n2. Genres')\n",
    "display_table(google_apps, 9)"
   ]
  },
  {
   "cell_type": "markdown",
   "metadata": {},
   "source": [
    "For the Google PlayStore dataset there are 2 sections to analyze. In the Category section, the most common app belongs to the Family category, having in the second and third place games and tools, respectively. On the other hand, the Genres section has the percentages more spread on all genres; in this case, Tools has the first place and Entertainment and Education in the second and third place, respectively.\n",
    "\n",
    "Comparing these results against the Apple Store ones, the conclusion is that the Apple Store has the Entertainment section as the dominator, whereas on the Google PlayStore there is a balance between entertainment and practical apps."
   ]
  },
  {
   "cell_type": "markdown",
   "metadata": {},
   "source": [
    "### Most Popular Apps by Genre on the App Store"
   ]
  },
  {
   "cell_type": "markdown",
   "metadata": {},
   "source": [
    "Let's now compute the apps with the most users for the App Store dataset"
   ]
  },
  {
   "cell_type": "code",
   "execution_count": 39,
   "metadata": {},
   "outputs": [
    {
     "name": "stdout",
     "output_type": "stream",
     "text": [
      "Navigation: 86090.33333333333\n",
      "Reference: 74942.11111111111\n",
      "Social Networking: 71548.34905660378\n",
      "Music: 57326.530303030304\n",
      "Weather: 52279.892857142855\n",
      "Book: 39758.5\n",
      "Food & Drink: 33333.92307692308\n",
      "Finance: 31467.944444444445\n",
      "Photo & Video: 28441.54375\n",
      "Travel: 28243.8\n",
      "Shopping: 26919.690476190477\n",
      "Health & Fitness: 23298.015384615384\n",
      "Sports: 23008.898550724636\n",
      "Games: 22788.6696905016\n",
      "News: 21248.023255813954\n",
      "Productivity: 21028.410714285714\n",
      "Utilities: 18684.456790123455\n",
      "Lifestyle: 16485.764705882353\n",
      "Entertainment: 14029.830708661417\n",
      "Business: 7491.117647058823\n",
      "Education: 7003.983050847458\n",
      "Catalogs: 4004.0\n",
      "Medical: 612.0\n"
     ]
    }
   ],
   "source": [
    "# Get the frequency table to get the unique app genres\n",
    "prime_genre_table = freq_table(apple_apps, 11)\n",
    "\n",
    "# user rating apps\n",
    "rating_apps = {}\n",
    "\n",
    "# Iterate over the table\n",
    "for genre in prime_genre_table:\n",
    "    \n",
    "    # Initialize some variables\n",
    "    total = 0 # sum of user ratings\n",
    "    len_genre = 0 # number of apps specific to each genre\n",
    "    \n",
    "    # Iterate over the dataset\n",
    "    for app in apple_apps[1:]:\n",
    "        \n",
    "        # Get the app genre\n",
    "        genre_app = app[11]\n",
    "        \n",
    "        # Compare the names of the genres\n",
    "        if(genre_app == genre):\n",
    "            \n",
    "            # Accumulate the user ratings\n",
    "            total += float(app[5])\n",
    "            \n",
    "            # Update the number of apps\n",
    "            len_genre += 1\n",
    "    \n",
    "    # Compute the average of the user ratings\n",
    "    avg_ratings = total / len_genre\n",
    "    \n",
    "    # Store the name of the app and the user ratings average\n",
    "    rating_apps[genre] = avg_ratings\n",
    "    \n",
    "    # print(f\"{genre}: {avg_ratings}\")\n",
    "\n",
    "# Sort and print\n",
    "for genre in sorted(rating_apps, key=rating_apps.get, reverse = True):\n",
    "    print(f\"{genre}: {rating_apps[genre]}\")"
   ]
  },
  {
   "cell_type": "markdown",
   "metadata": {},
   "source": [
    "This results show that the apps with more ratings are the practical apps, such as navigation and reference. However, based on the last results of the number of apps (in which entertainment was the profile with more apps), the recommended app profile app would be related to entertainment since in the third and fourth place the app profiles are related to this category."
   ]
  },
  {
   "cell_type": "markdown",
   "metadata": {},
   "source": [
    "### Most Popular Apps by Genre on the Google PlayStore"
   ]
  },
  {
   "cell_type": "markdown",
   "metadata": {},
   "source": [
    "Let's now compute the apps with the most users for the Google PlayStore dataset"
   ]
  },
  {
   "cell_type": "code",
   "execution_count": 40,
   "metadata": {},
   "outputs": [
    {
     "name": "stdout",
     "output_type": "stream",
     "text": [
      "COMMUNICATION: 38456119.167247385\n",
      "VIDEO_PLAYERS: 24727872.452830188\n",
      "SOCIAL: 23253652.127118643\n",
      "PHOTOGRAPHY: 17840110.40229885\n",
      "PRODUCTIVITY: 16787331.344927534\n",
      "GAME: 15588015.603248259\n",
      "TRAVEL_AND_LOCAL: 13984077.710144928\n",
      "ENTERTAINMENT: 11640705.88235294\n",
      "TOOLS: 10801391.298666667\n",
      "NEWS_AND_MAGAZINES: 9549178.467741935\n",
      "BOOKS_AND_REFERENCE: 8767811.894736841\n",
      "SHOPPING: 7036877.311557789\n",
      "PERSONALIZATION: 5201482.6122448975\n",
      "WEATHER: 5074486.197183099\n",
      "HEALTH_AND_FITNESS: 4188821.9853479853\n",
      "MAPS_AND_NAVIGATION: 4056941.7741935486\n",
      "FAMILY: 3695641.8198090694\n",
      "SPORTS: 3638640.1428571427\n",
      "ART_AND_DESIGN: 1986335.0877192982\n",
      "FOOD_AND_DRINK: 1924897.7363636363\n",
      "EDUCATION: 1833495.145631068\n",
      "BUSINESS: 1712290.1474201474\n",
      "LIFESTYLE: 1437816.2687861272\n",
      "FINANCE: 1387692.475609756\n",
      "HOUSE_AND_HOME: 1331540.5616438356\n",
      "DATING: 854028.8303030303\n",
      "COMICS: 817657.2727272727\n",
      "AUTO_AND_VEHICLES: 647317.8170731707\n",
      "LIBRARIES_AND_DEMO: 638503.734939759\n",
      "PARENTING: 542603.6206896552\n",
      "BEAUTY: 513151.88679245283\n",
      "EVENTS: 253542.22222222222\n",
      "MEDICAL: 120550.61980830671\n"
     ]
    }
   ],
   "source": [
    "# Generate the frequency table for categories\n",
    "categories_table = freq_table(google_apps, 1)\n",
    "\n",
    "# Number of installs by category\n",
    "category_installs = {}\n",
    "\n",
    "# Iterate over the categories\n",
    "for category in categories_table:\n",
    "    \n",
    "    # Initialize some variables\n",
    "    total = 0 # sum of user ratings\n",
    "    len_genre = 0 # number of apps specific to each genre\n",
    "    \n",
    "    # Iterate over the dataset\n",
    "    for app in google_apps[1:]:\n",
    "        \n",
    "        # Get the category app\n",
    "        category_app = app[1]\n",
    "        \n",
    "        # Compare the names of the categories\n",
    "        if(category == category_app):\n",
    "            \n",
    "            # Store the number of installs\n",
    "            n_installs = app[5]\n",
    "            \n",
    "            # Replace the '+' and ',' characters\n",
    "            n_installs = (n_installs.replace('+','')).replace(',','')\n",
    "            \n",
    "            # Accumulate the number of installs to the total\n",
    "            total += float(n_installs)\n",
    "            \n",
    "            # Update the counter\n",
    "            len_genre += 1\n",
    "    \n",
    "    # Compute the average of the number of installs\n",
    "    avg_installs = total / len_genre\n",
    "    \n",
    "    # Store the category and the number of installs related\n",
    "    category_installs[category] = avg_installs\n",
    "    \n",
    "# Sort and print\n",
    "for category in sorted(category_installs, key=category_installs.get, reverse = True):\n",
    "    print(f\"{category}: {category_installs[category]}\")"
   ]
  },
  {
   "cell_type": "markdown",
   "metadata": {},
   "source": [
    "In this case the recommeded app profile would be the one related to practical apps, since there's a leading of these type of apps in the number of installs and the number of apps."
   ]
  }
 ],
 "metadata": {
  "kernelspec": {
   "display_name": "Python 3.9.13 64-bit",
   "language": "python",
   "name": "python3"
  },
  "language_info": {
   "codemirror_mode": {
    "name": "ipython",
    "version": 3
   },
   "file_extension": ".py",
   "mimetype": "text/x-python",
   "name": "python",
   "nbconvert_exporter": "python",
   "pygments_lexer": "ipython3",
   "version": "3.9.13"
  },
  "vscode": {
   "interpreter": {
    "hash": "b0fa6594d8f4cbf19f97940f81e996739fb7646882a419484c72d19e05852a7e"
   }
  }
 },
 "nbformat": 4,
 "nbformat_minor": 2
}
